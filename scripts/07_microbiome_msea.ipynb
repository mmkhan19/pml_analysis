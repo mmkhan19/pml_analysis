{
 "cells": [
  {
   "cell_type": "markdown",
   "metadata": {},
   "source": [
    "# Microbe-Set Enrichment Analysis"
   ]
  },
  {
   "cell_type": "markdown",
   "metadata": {},
   "source": [
    "Microbe-Set Enrichment Analysis[MSEA](https://www.nature.com/articles/s41598-020-78511-y#Sec8) is a host-microbe enrichment analysis package that checks for enriched microbes with known microbe-human gene interactions reported in literature. This needs a reference microbe set compendium (the one used here is provided by the authors) and a list of microbes of interest basically the one that comes up as significant in the differential abundance analysis."
   ]
  },
  {
   "cell_type": "markdown",
   "metadata": {},
   "source": [
    "# install msea package\n",
    "#pip install msea"
   ]
  },
  {
   "cell_type": "markdown",
   "metadata": {},
   "source": [
    "# Step 1: Read reference\n",
    "\n",
    "Read in a GMT file with reference human-microbe.Here, the file provided by msea is taken into consideration which has a total of 1286 microbe-sets (gene: microbes) from published literature."
   ]
  },
  {
   "cell_type": "code",
   "execution_count": 32,
   "metadata": {},
   "outputs": [
    {
     "name": "stdout",
     "output_type": "stream",
     "text": [
      "Number of microbe-sets: 1286\n",
      "[('A2M', {'Pseudomonas', 'Sodalis', 'Salmonella', 'Borrelia', 'Azomonas'}),\n",
      " ('AAAS',\n",
      "  {'Colwellia',\n",
      "   'Deinococcus',\n",
      "   'Idiomarina',\n",
      "   'Neisseria',\n",
      "   'Pseudidiomarina',\n",
      "   'Pseudoalteromonas'}),\n",
      " ('AACS',\n",
      "  {'Acetobacter',\n",
      "   'Acinetobacter',\n",
      "   'Azomonas',\n",
      "   'Corynebacterium',\n",
      "   'Enterobacter',\n",
      "   'Klebsiella',\n",
      "   'Mycobacterium',\n",
      "   'Mycoplasma',\n",
      "   'Pseudomonas',\n",
      "   'Sodalis',\n",
      "   'Staphylococcus',\n",
      "   'Streptomyces',\n",
      "   'Tetragenococcus'})]\n"
     ]
    }
   ],
   "source": [
    "from pprint import pprint\n",
    "import msea\n",
    "from msea import SetLibrary\n",
    "import pandas\n",
    "\n",
    "# 0. load a reference microbe-set library from a GMT file\n",
    "gmt_filepath = \\\n",
    "    'https://bitbucket.org/wangz10/msea/raw/aee6dd184e9bde152b4d7c2f3c7245efc1b80d23/msea/data/human_genes_associated_microbes/set_library.gmt'\n",
    "\n",
    "# msea package provides a `read_gmt` function to parse a GMT file into a\n",
    "# dictionary of sets\n",
    "d_gmt = msea.read_gmt(gmt_filepath)\n",
    "print('Number of microbe-sets:', len(d_gmt))\n",
    "# Look at a couple of reference sets in the library\n",
    "pprint(list(d_gmt.items())[:3])"
   ]
  },
  {
   "cell_type": "markdown",
   "metadata": {},
   "source": [
    "# Step 2: msea.enrich\n",
    "perform MSEA for a input microbe-set against the library of reference sets"
   ]
  },
  {
   "cell_type": "code",
   "execution_count": 4,
   "metadata": {},
   "outputs": [
    {
     "name": "stdout",
     "output_type": "stream",
     "text": [
      "       oddsratio        pvalue        qvalue  \\\n",
      "term                                           \n",
      "AAAS  166.666667  5.436249e-10  6.991016e-07   \n",
      "NAGS   47.619048  1.478752e-07  9.508376e-05   \n",
      "AGRP  111.111111  9.710341e-07  4.162500e-04   \n",
      "FICD   95.238095  1.512723e-06  4.863405e-04   \n",
      "SACS   27.777778  1.283717e-05  2.122535e-03   \n",
      "\n",
      "                                                 shared  n_shared  \n",
      "term                                                               \n",
      "AAAS  [Deinococcus, Pseudidiomarina, Idiomarina, Col...         6  \n",
      "NAGS  [Deinococcus, Pseudidiomarina, Idiomarina, Col...         6  \n",
      "AGRP  [Pseudoalteromonas, Pseudidiomarina, Colwellia...         4  \n",
      "FICD  [Idiomarina, Colwellia, Pseudidiomarina, Neiss...         4  \n",
      "SACS  [Pseudidiomarina, Idiomarina, Colwellia, Pseud...         5  \n"
     ]
    }
   ],
   "source": [
    "#example\n",
    "microbe_set_input = set(['Colwellia',\n",
    "                         'Deinococcus',\n",
    "                         'Idiomarina',\n",
    "                         'Neisseria',\n",
    "                         'Pseudidiomarina',\n",
    "                         'Pseudoalteromonas'])\n",
    "# this can be done using the `msea.enrich` function\n",
    "msea_result = msea.enrich(microbe_set_input, d_gmt=d_gmt, universe=1000)\n",
    "# check the top enriched reference microbe-sets\n",
    "print(msea_result.head())"
   ]
  },
  {
   "cell_type": "markdown",
   "metadata": {},
   "source": [
    "# Step 3: msea with adjustment\n",
    "Perform MSEA with adjustment of expected ranks for reference sets sometimes certain reference microbe-sets in a library are more likely to be enriched by chance. We can adjust this by empirically estimating the null distributions of the ranks of the reference sets, then uses z-score to quantify if observed ranks are significantly different from the expected ranks."
   ]
  },
  {
   "cell_type": "code",
   "execution_count": 25,
   "metadata": {},
   "outputs": [
    {
     "name": "stderr",
     "output_type": "stream",
     "text": [
      "\r",
      "  0%|          | 0/20 [00:00<?, ?it/s]"
     ]
    },
    {
     "name": "stdout",
     "output_type": "stream",
     "text": [
      "Calculating empirical ranks for each set...\n",
      "Number of unique microbes: 566\n"
     ]
    },
    {
     "name": "stderr",
     "output_type": "stream",
     "text": [
      "100%|██████████| 20/20 [00:13<00:00,  1.46it/s]\n"
     ]
    },
    {
     "name": "stdout",
     "output_type": "stream",
     "text": [
      "(1286,) (1286,)\n",
      "      oddsratio    pvalue    qvalue    zscore  combined_score  \\\n",
      "term                                                            \n",
      "ARSI  31.250000  0.000424  0.014727 -2.549074       19.797220   \n",
      "RBFA  50.000000  0.000131  0.007639 -1.801593       16.111115   \n",
      "CFI   35.714286  0.000302  0.012126 -1.714504       13.897729   \n",
      "CCL2   8.547009  0.004440  0.098440 -2.557406       13.853860   \n",
      "AGA   25.000000  0.000752  0.021204 -1.567378       11.273449   \n",
      "\n",
      "                                                 shared  n_shared  \n",
      "term                                                               \n",
      "ARSI           [Idiomarina, Colwellia, Pseudidiomarina]         3  \n",
      "RBFA           [Idiomarina, Colwellia, Pseudidiomarina]         3  \n",
      "CFI            [Idiomarina, Colwellia, Pseudidiomarina]         3  \n",
      "CCL2  [Idiomarina, Colwellia, Pseudidiomarina, Neiss...         4  \n",
      "AGA            [Idiomarina, Colwellia, Pseudidiomarina]         3  \n"
     ]
    }
   ],
   "source": [
    "# To do that, it is easier through the `SetLibrary` class.\n",
    "set_library = SetLibrary.load(gmt_filepath)\n",
    "# The `SetLibrary.get_empirical_ranks` method helps compute the expected\n",
    "# ranks and store the means and stds of the ranks from the null\n",
    "# distribution\n",
    "set_library.get_empirical_ranks(n=20)\n",
    "print(set_library.rank_means.shape, set_library.rank_stds.shape)\n",
    "# After that, we can perform MSEA with this adjustment\n",
    "msea_result_adj = set_library.enrich(microbe_set_input, adjust=True, universe=1000)\n",
    "print(msea_result_adj.head())"
   ]
  },
  {
   "cell_type": "code",
   "execution_count": 24,
   "metadata": {},
   "outputs": [
    {
     "data": {
      "text/plain": [
       "7.723371771651845"
      ]
     },
     "execution_count": 24,
     "metadata": {},
     "output_type": "execute_result"
    }
   ],
   "source": [
    "#import math\n",
    "math.log10(0.000030)*(-1.707623)"
   ]
  },
  {
   "cell_type": "markdown",
   "metadata": {},
   "source": [
    "# Create msea_pml()"
   ]
  },
  {
   "cell_type": "code",
   "execution_count": 27,
   "metadata": {},
   "outputs": [],
   "source": [
    "def msea_pml(microbe_set_input, gmt_filepath):\n",
    "    set_library = SetLibrary.load(gmt_filepath)\n",
    "    set_library.get_empirical_ranks(n=20)\n",
    "    print(set_library.rank_means.shape, set_library.rank_stds.shape)\n",
    "    msea_result_adj = set_library.enrich(microbe_set_input, adjust=True, universe=1000)\n",
    "    print(msea_result_adj.head())\n",
    "    return msea_result_adj"
   ]
  },
  {
   "cell_type": "markdown",
   "metadata": {},
   "source": [
    "# Cancer.vs.Ctrl\n",
    "## Up Microbes"
   ]
  },
  {
   "cell_type": "code",
   "execution_count": 41,
   "metadata": {},
   "outputs": [
    {
     "name": "stderr",
     "output_type": "stream",
     "text": [
      "\r",
      "  0%|          | 0/20 [00:00<?, ?it/s]"
     ]
    },
    {
     "name": "stdout",
     "output_type": "stream",
     "text": [
      "Calculating empirical ranks for each set...\n",
      "Number of unique microbes: 566\n"
     ]
    },
    {
     "name": "stderr",
     "output_type": "stream",
     "text": [
      "100%|██████████| 20/20 [00:13<00:00,  1.53it/s]\n",
      "/usr4/bs849/mmkhan/.local/lib/python3.7/site-packages/msea/set_library.py:73: RuntimeWarning: 10 of the 27 microbes in the input_set do(es) not exist in the reference set library: Solobacterium;Bergeyella;Centipeda;Lancefieldella;Schaalia;Glaesserella;Simonsiella;Snodgrassella;Obesumbacterium;Lachnoanaerobaculum\n",
      "  list(unmapped_items))), RuntimeWarning)\n"
     ]
    },
    {
     "name": "stdout",
     "output_type": "stream",
     "text": [
      "(1286,) (1286,)\n",
      "       oddsratio    pvalue    qvalue    zscore  combined_score  \\\n",
      "term                                                             \n",
      "IFI16  29.629630  0.000075  0.013524 -8.543537       81.176134   \n",
      "IL15    5.446623  0.004915  0.072107 -7.980909       42.423027   \n",
      "IL2     5.108557  0.013535  0.121663 -8.033760       34.565202   \n",
      "CD86    5.050505  0.000408  0.020967 -4.267790       33.311064   \n",
      "IL6     4.306632  0.000649  0.023920 -3.601049       26.430838   \n",
      "\n",
      "                                                  shared  n_shared  \n",
      "term                                                                \n",
      "IFI16  [Campylobacter, Porphyromonas, Aggregatibacter...         4  \n",
      "IL15   [Campylobacter, Shewanella, Aggregatibacter, H...         5  \n",
      "IL2    [Porphyromonas, Prevotella, Aggregatibacter, N...         4  \n",
      "CD86   [Veillonella, Campylobacter, Aggregatibacter, ...         9  \n",
      "IL6    [Veillonella, Shewanella, Campylobacter, Aggre...        10  \n"
     ]
    }
   ],
   "source": [
    "microbe_set_input = set(['Fusobacterium',\n",
    "                         'Dialister',\n",
    "                         'Peptostreptococcus',\n",
    "                         'Prevotella',\n",
    "                         'Shewanella',\n",
    "                         'Campylobacter',\n",
    "                         'Veillonella',\n",
    "                         'Neisseria',\n",
    "                         'Porphyromonas',\n",
    "                         'Solobacterium',\n",
    "                         'Glaesserella',\n",
    "                         'Haemophilus',\n",
    "                         'Microlunatus',\n",
    "                         'Bergeyella',\n",
    "                         'Lachnoanaerobaculum',\n",
    "                         'Bibersteinia',\n",
    "                         'Aggregatibacter',\n",
    "                         'Obesumbacterium',\n",
    "                         'Lancefieldella',\n",
    "                         'Centipeda',\n",
    "                         'Snodgrassella',\n",
    "                         'Riemerella',\n",
    "                         'Schaalia',\n",
    "                         'Plesiomonas',\n",
    "                         'Gemella',    \n",
    "                         'Simonsiella',\n",
    "                         'Leptotrichia'])\n",
    "can_ctrl_up = msea_pml(microbe_set_input=microbe_set_input, gmt_filepath=gmt_filepath)\n",
    "can_ctrl_up.to_csv('/restricted/projectnb/montilab-p/projects/oralcancer/pml/results/mmkhan/msea_cancer_ctrl_up.csv')"
   ]
  },
  {
   "cell_type": "markdown",
   "metadata": {},
   "source": [
    "## Dn Microbes"
   ]
  },
  {
   "cell_type": "code",
   "execution_count": 40,
   "metadata": {},
   "outputs": [
    {
     "name": "stderr",
     "output_type": "stream",
     "text": [
      "\r",
      "  0%|          | 0/20 [00:00<?, ?it/s]"
     ]
    },
    {
     "name": "stdout",
     "output_type": "stream",
     "text": [
      "Calculating empirical ranks for each set...\n",
      "Number of unique microbes: 566\n"
     ]
    },
    {
     "name": "stderr",
     "output_type": "stream",
     "text": [
      "100%|██████████| 20/20 [00:15<00:00,  1.28it/s]\n",
      "/usr4/bs849/mmkhan/.local/lib/python3.7/site-packages/msea/set_library.py:73: RuntimeWarning: 4 of the 13 microbes in the input_set do(es) not exist in the reference set library: Rhodoluna;Tepidimonas;Pseudoglutamicibacter;Malassezia\n",
      "  list(unmapped_items))), RuntimeWarning)\n"
     ]
    },
    {
     "name": "stdout",
     "output_type": "stream",
     "text": [
      "(1286,) (1286,)\n",
      "         oddsratio    pvalue    qvalue    zscore  combined_score  \\\n",
      "term                                                               \n",
      "DST      30.769231  0.004065  0.746886 -2.517558       13.859721   \n",
      "COL18A1  15.384615  0.012130  0.858285 -1.986376        8.764094   \n",
      "CHIA      5.128205  0.032140  0.858285 -2.282949        7.848001   \n",
      "COPA      5.917160  0.009655  0.858285 -1.627569        7.552413   \n",
      "CCNB1    10.256410  0.023740  0.858285 -1.936983        7.245425   \n",
      "\n",
      "                                                    shared  n_shared  \n",
      "term                                                                  \n",
      "DST                          [Streptomyces, Agrobacterium]         2  \n",
      "COL18A1                      [Streptomyces, Agrobacterium]         2  \n",
      "CHIA              [Ralstonia, Streptomyces, Agrobacterium]         3  \n",
      "COPA     [Ralstonia, Streptomyces, Bradyrhizobium, Agro...         4  \n",
      "CCNB1                        [Streptomyces, Agrobacterium]         2  \n"
     ]
    }
   ],
   "source": [
    "microbe_set_input = set(['Gardnerella',\n",
    "                         'Limnohabitans',\n",
    "                         'Kocuria',\n",
    "                         'Ralstonia',\n",
    "                         'Thalassospira',\n",
    "                         'Agrobacterium', \n",
    "                         'Streptomyces',\n",
    "                         'Delftia', \n",
    "                         'Bradyrhizobium',\n",
    "                         'Streptomyces',\n",
    "                         'Malassezia',\n",
    "                         'Pseudoglutamicibacter',\n",
    "                         'Rhodoluna',\n",
    "                         'Tepidimonas'\n",
    "                        ])\n",
    "                            \n",
    "can_ctrl_dn = msea_pml(microbe_set_input=microbe_set_input, gmt_filepath=gmt_filepath)\n",
    "can_ctrl_dn.to_csv('/restricted/projectnb/montilab-p/projects/oralcancer/pml/results/mmkhan/msea_cancer_ctrl_dn.csv')"
   ]
  },
  {
   "cell_type": "markdown",
   "metadata": {},
   "source": [
    "# PML.vs.Ctrl\n",
    "## Up Microbes\n",
    "Combining both HkNR+Dys microbes"
   ]
  },
  {
   "cell_type": "code",
   "execution_count": 39,
   "metadata": {},
   "outputs": [
    {
     "name": "stderr",
     "output_type": "stream",
     "text": [
      "\r",
      "  0%|          | 0/20 [00:00<?, ?it/s]"
     ]
    },
    {
     "name": "stdout",
     "output_type": "stream",
     "text": [
      "Calculating empirical ranks for each set...\n",
      "Number of unique microbes: 566\n"
     ]
    },
    {
     "name": "stderr",
     "output_type": "stream",
     "text": [
      "100%|██████████| 20/20 [00:14<00:00,  1.37it/s]\n",
      "/usr4/bs849/mmkhan/.local/lib/python3.7/site-packages/msea/set_library.py:73: RuntimeWarning: 10 of the 29 microbes in the input_set do(es) not exist in the reference set library: Solobacterium;Oceanivirga;Schaalia;Canicola;Simonsiella;Marivita;Snodgrassella;Bergeyella;Novosphingopyxis;Lachnoanaerobaculum\n",
      "  list(unmapped_items))), RuntimeWarning)\n"
     ]
    },
    {
     "name": "stdout",
     "output_type": "stream",
     "text": [
      "(1286,) (1286,)\n",
      "       oddsratio    pvalue    qvalue    zscore  combined_score  \\\n",
      "term                                                             \n",
      "IL1B    5.260082  0.000305  0.008844 -7.637203       61.820945   \n",
      "CD5     9.852217  0.000015  0.002645 -1.920120       21.384082   \n",
      "HLA-B  10.775862  0.000370  0.009698 -2.670712       21.107465   \n",
      "DPP4    9.074410  0.000710  0.013837 -2.891157       20.961066   \n",
      "CD40    5.945303  0.000065  0.006427 -2.081086       20.064909   \n",
      "\n",
      "                                                  shared  n_shared  \n",
      "term                                                                \n",
      "IL1B   [Campylobacter, Shewanella, Aggregatibacter, F...         9  \n",
      "CD5    [Campylobacter, Aggregatibacter, Fusobacterium...         8  \n",
      "HLA-B  [Aggregatibacter, Streptococcus, Leptotrichia,...         5  \n",
      "DPP4   [Aggregatibacter, Fusobacterium, Streptococcus...         5  \n",
      "CD40   [Riemerella, Veillonella, Campylobacter, Aggre...        10  \n"
     ]
    }
   ],
   "source": [
    "microbe_set_input = set(['Shewanella',\n",
    "                         'Aggregatibacter',\n",
    "                         'Haemophilus',\n",
    "                         'Mannheimia', \n",
    "                         'Veillonella',\n",
    "                         'Dialister',\n",
    "                         'Fusobacterium',\n",
    "                         'Neisseria',\n",
    "                         'Riemerella',\n",
    "                         'Leptotrichia',\n",
    "                         'Campylobacter', \n",
    "                         'Peptostreptococcus',\n",
    "                         'Porphyromonas',\n",
    "                         'Streptococcus',\n",
    "                         'Plesiomonas',\n",
    "                         'Bibersteinia', \n",
    "                         'Prevotella',\n",
    "                         'Gemella',\n",
    "                         'Microlunatus',\n",
    "                         'Novosphingopyxis',\n",
    "                         'Marivita',\n",
    "                         'Oceanivirga',\n",
    "                         'Simonsiella',\n",
    "                         'Bergeyella',\n",
    "                         'Snodgrassella',\n",
    "                         'Solobacterium',\n",
    "                         'Lachnoanaerobaculum',\n",
    "                         'Mannheimia',\n",
    "                         'Schaalia',\n",
    "                         'Canicola' \n",
    "                         ])\n",
    "pml_ctrl_up = msea_pml(microbe_set_input=microbe_set_input, gmt_filepath=gmt_filepath)\n",
    "pml_ctrl_up.to_csv('/restricted/projectnb/montilab-p/projects/oralcancer/pml/results/mmkhan/msea_pml_ctrl_up.csv')"
   ]
  },
  {
   "cell_type": "markdown",
   "metadata": {},
   "source": [
    "## Dn Microbes"
   ]
  },
  {
   "cell_type": "code",
   "execution_count": 38,
   "metadata": {},
   "outputs": [
    {
     "name": "stderr",
     "output_type": "stream",
     "text": [
      "\r",
      "  0%|          | 0/20 [00:00<?, ?it/s]"
     ]
    },
    {
     "name": "stdout",
     "output_type": "stream",
     "text": [
      "Calculating empirical ranks for each set...\n",
      "Number of unique microbes: 566\n"
     ]
    },
    {
     "name": "stderr",
     "output_type": "stream",
     "text": [
      "100%|██████████| 20/20 [00:14<00:00,  1.34it/s]\n",
      "/usr4/bs849/mmkhan/.local/lib/python3.7/site-packages/msea/set_library.py:73: RuntimeWarning: 1 of the 3 microbes in the input_set do(es) not exist in the reference set library: Rhodoluna\n",
      "  list(unmapped_items))), RuntimeWarning)\n"
     ]
    },
    {
     "name": "stdout",
     "output_type": "stream",
     "text": [
      "(1286,) (1286,)\n",
      "        oddsratio    pvalue  qvalue    zscore  combined_score  \\\n",
      "term                                                            \n",
      "ARR3    55.555556  0.027476     1.0 -2.756625        9.908497   \n",
      "BAX     20.833333  0.065112     1.0 -2.319484        6.336014   \n",
      "ARG2    23.809524  0.057732     1.0 -1.916147        5.464729   \n",
      "ALAD    16.666667  0.079655     1.0 -1.374613        3.477834   \n",
      "BCL2L1  14.492754  0.090378     1.0 -1.310547        3.150238   \n",
      "\n",
      "                 shared  n_shared  \n",
      "term                               \n",
      "ARR3    [Agrobacterium]         1  \n",
      "BAX     [Agrobacterium]         1  \n",
      "ARG2    [Agrobacterium]         1  \n",
      "ALAD    [Agrobacterium]         1  \n",
      "BCL2L1  [Agrobacterium]         1  \n"
     ]
    }
   ],
   "source": [
    "# not found: Curvibacter;Centipeda;Lancefieldella;Catonella;Rhodoluna;Lacrimispora;Cronobacter\n",
    "microbe_set_input = set(['Agrobacterium',\n",
    "                         'Selenomonas',\n",
    "                         'Rhodoluna'\n",
    "                        ])\n",
    "pml_ctrl_dn = msea_pml(microbe_set_input=microbe_set_input, gmt_filepath=gmt_filepath)\n",
    "pml_ctrl_dn.to_csv('/restricted/projectnb/montilab-p/projects/oralcancer/pml/results/mmkhan/msea_pml_ctrl_dn.csv')"
   ]
  },
  {
   "cell_type": "code",
   "execution_count": null,
   "metadata": {},
   "outputs": [],
   "source": []
  }
 ],
 "metadata": {
  "kernelspec": {
   "display_name": "Python 3",
   "language": "python",
   "name": "python3"
  },
  "language_info": {
   "codemirror_mode": {
    "name": "ipython",
    "version": 3
   },
   "file_extension": ".py",
   "mimetype": "text/x-python",
   "name": "python",
   "nbconvert_exporter": "python",
   "pygments_lexer": "ipython3",
   "version": "3.7.9"
  }
 },
 "nbformat": 4,
 "nbformat_minor": 5
}
